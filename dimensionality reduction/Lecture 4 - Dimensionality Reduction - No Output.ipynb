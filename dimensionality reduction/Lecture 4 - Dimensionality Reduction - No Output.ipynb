{
 "cells": [
  {
   "cell_type": "code",
   "execution_count": null,
   "metadata": {
    "collapsed": true
   },
   "outputs": [],
   "source": [
    "import numpy as np\n",
    "import sklearn.manifold as skmfld\n",
    "import sklearn.datasets as skdata\n",
    "import pandas as pd\n",
    "import matplotlib.pyplot as plt\n",
    "%matplotlib inline"
   ]
  },
  {
   "cell_type": "markdown",
   "metadata": {},
   "source": [
    "# Blobs"
   ]
  },
  {
   "cell_type": "code",
   "execution_count": null,
   "metadata": {
    "collapsed": true
   },
   "outputs": [],
   "source": [
    "def make_blob(center, radius, num_samples=100):\n",
    "    \"\"\"\n",
    "    Args:\n",
    "        center: length 2 list specifying x and y coords\n",
    "        radius: number specifying variance in both coords\n",
    "        num_samples: integer specifying number of samples, default=100\n",
    "    Returns:\n",
    "        np.array with shape (num_samples, 2); centered at center with stddev=radius\n",
    "    \"\"\"\n",
    "    x = np.random.normal(center[0], radius, num_samples)\n",
    "    y = np.random.normal(center[1], radius, num_samples)\n",
    "    return np.c_[x, y]\n",
    "\n",
    "def make_labeled_blobs(centers, radii):\n",
    "    \"\"\"\n",
    "    Args:\n",
    "        centers: list of centers (list of pairs of numbers)\n",
    "        radii: list of radii (list of numbers)\n",
    "    Returns:\n",
    "        np.array of all the blobs, with a \"label\" column\n",
    "    \"\"\"\n",
    "    label = 0\n",
    "    arr_to_return = None\n",
    "    for c, r in zip(centers, radii):\n",
    "        this_cluster = make_blob(c, r)\n",
    "        #exercise\n",
    "        #label_col = #column of correct size with value label everywhere\n",
    "        label_col = label * np.ones(this_cluster.shape[0])\n",
    "        this_cluster_labeled = np.c_[this_cluster, label_col]\n",
    "        if arr_to_return is None:\n",
    "            arr_to_return = this_cluster_labeled\n",
    "        else:\n",
    "            arr_to_return = np.r_[arr_to_return, this_cluster_labeled]\n",
    "        label += 1\n",
    "    return arr_to_return"
   ]
  },
  {
   "cell_type": "code",
   "execution_count": null,
   "metadata": {},
   "outputs": [],
   "source": [
    "easyblobs = make_labeled_blobs([[0,0],[5,10],[10,0]], [1,1,1])\n",
    "print easyblobs.shape\n",
    "plt.scatter(easyblobs[:,0], easyblobs[:,1], c=easyblobs[:,2])"
   ]
  },
  {
   "cell_type": "code",
   "execution_count": null,
   "metadata": {},
   "outputs": [],
   "source": [
    "asymblobs = make_labeled_blobs([[0,0],[5,10],[40,5]], [1,1,1])\n",
    "print asymblobs.shape\n",
    "plt.scatter(asymblobs[:,0], asymblobs[:,1], c=asymblobs[:,2])"
   ]
  },
  {
   "cell_type": "code",
   "execution_count": null,
   "metadata": {},
   "outputs": [],
   "source": [
    "blobs_var_density = make_labeled_blobs([[0,0],[5,10],[40,5]], [1,2,.5])\n",
    "print blobs_var_density.shape\n",
    "plt.scatter(blobs_var_density[:,0], blobs_var_density[:,1], c=blobs_var_density[:,2])"
   ]
  },
  {
   "cell_type": "code",
   "execution_count": null,
   "metadata": {},
   "outputs": [],
   "source": [
    "hardblobs = make_labeled_blobs([[0,0],[5,5],[10,2]], [1,1,2])\n",
    "print hardblobs.shape\n",
    "plt.scatter(hardblobs[:,0], hardblobs[:,1], c=hardblobs[:,2])"
   ]
  },
  {
   "cell_type": "markdown",
   "metadata": {},
   "source": [
    "# Swiss Rolls"
   ]
  },
  {
   "cell_type": "code",
   "execution_count": null,
   "metadata": {
    "collapsed": true
   },
   "outputs": [],
   "source": [
    "swiss_rolls = [skdata.make_swiss_roll(n_samples=n) for n in [100, 500, 1000, 5000]]"
   ]
  },
  {
   "cell_type": "code",
   "execution_count": null,
   "metadata": {},
   "outputs": [],
   "source": [
    "from mpl_toolkits.mplot3d import Axes3D\n",
    "Axes3D\n",
    "# fix sub-plots\n",
    "fig = plt.figure(figsize=(20, 4))\n",
    "for ind, sr in enumerate(swiss_rolls):\n",
    "    roll, coord = sr\n",
    "    ax = fig.add_subplot(1,len(swiss_rolls),ind+1, projection='3d')\n",
    "    ax.scatter(roll[:,0], roll[:,1], roll[:,2], c=coord, cmap=plt.cm.viridis)"
   ]
  },
  {
   "cell_type": "markdown",
   "metadata": {},
   "source": [
    "# PCA"
   ]
  },
  {
   "cell_type": "code",
   "execution_count": null,
   "metadata": {
    "collapsed": true
   },
   "outputs": [],
   "source": [
    "import sklearn.decomposition as decomp\n",
    "def try_pca(data, color):\n",
    "    fig = plt.figure(figsize=(10,4))\n",
    "    pca = decomp.PCA()\n",
    "    data_red = pca.fit_transform(data)\n",
    "    plt.scatter(data_red[:,0], data_red[:,1], c=color, cmap=plt.cm.viridis)"
   ]
  },
  {
   "cell_type": "code",
   "execution_count": null,
   "metadata": {
    "scrolled": true
   },
   "outputs": [],
   "source": [
    "# PCA on the blobs is the identity\n",
    "try_pca(hardblobs, hardblobs[:,2])"
   ]
  },
  {
   "cell_type": "code",
   "execution_count": null,
   "metadata": {
    "scrolled": true
   },
   "outputs": [],
   "source": [
    "try_pca(swiss_rolls[0][0], swiss_rolls[0][1])"
   ]
  },
  {
   "cell_type": "code",
   "execution_count": null,
   "metadata": {
    "scrolled": true
   },
   "outputs": [],
   "source": [
    "try_pca(swiss_rolls[3][0], swiss_rolls[3][1])"
   ]
  },
  {
   "cell_type": "markdown",
   "metadata": {},
   "source": [
    "## Exercises:\n",
    "1. PCA actually does all right on these rolls. Can you change the rolls to confuse it?\n",
    "2. Make the sandwich example (two filled ellipses separated by a small distance orthogonal to their axes). Which algorithms will perform well on this example? Test it."
   ]
  },
  {
   "cell_type": "markdown",
   "metadata": {},
   "source": [
    "# MDS"
   ]
  },
  {
   "cell_type": "code",
   "execution_count": null,
   "metadata": {
    "collapsed": true
   },
   "outputs": [],
   "source": [
    "def try_mds(data, color):\n",
    "    fig = plt.figure(figsize=(10,4))\n",
    "    mds = skmfld.MDS(n_components=2, n_jobs=-1, verbose=1)\n",
    "    data_red = mds.fit_transform(data)\n",
    "    plt.scatter(data_red[:,0], data_red[:,1], c=color, cmap=plt.cm.viridis)"
   ]
  },
  {
   "cell_type": "code",
   "execution_count": null,
   "metadata": {
    "scrolled": true
   },
   "outputs": [],
   "source": [
    "try_mds(hardblobs, color=hardblobs[:,2])"
   ]
  },
  {
   "cell_type": "code",
   "execution_count": null,
   "metadata": {
    "scrolled": false
   },
   "outputs": [],
   "source": [
    "try_mds(swiss_rolls[0][0], color=swiss_rolls[0][1])"
   ]
  },
  {
   "cell_type": "code",
   "execution_count": null,
   "metadata": {
    "scrolled": true
   },
   "outputs": [],
   "source": [
    "try_mds(swiss_rolls[1][0], color=swiss_rolls[1][1])"
   ]
  },
  {
   "cell_type": "code",
   "execution_count": null,
   "metadata": {
    "scrolled": true
   },
   "outputs": [],
   "source": [
    "# Warning -- pretty slow\n",
    "try_mds(swiss_rolls[2][0], color=swiss_rolls[2][1])"
   ]
  },
  {
   "cell_type": "code",
   "execution_count": null,
   "metadata": {
    "collapsed": true
   },
   "outputs": [],
   "source": [
    "# Warning -- slow\n",
    "# try_mds(swiss_rolls[3][0], color=swiss_rolls[3][1])"
   ]
  },
  {
   "cell_type": "markdown",
   "metadata": {},
   "source": [
    "# Locally Linear Embedding\n",
    "https://www.cs.nyu.edu/~roweis/lle/papers/lleintro.pdf\n",
    "\n",
    "Exercises: \n",
    "1. Find the transition points between results.\n",
    "2. Explain the results at low parameter choices."
   ]
  },
  {
   "cell_type": "code",
   "execution_count": null,
   "metadata": {
    "collapsed": true
   },
   "outputs": [],
   "source": [
    "def try_lle(data, color, neighbor_choices=(1,10,50,100,200)):\n",
    "    fig = plt.figure(figsize=(20, 4))\n",
    "    for ind, n_neighbors in enumerate(neighbor_choices):\n",
    "        lle = skmfld.LocallyLinearEmbedding(n_neighbors, n_components=2, n_jobs=-1, eigen_solver='dense')\n",
    "        data_red = lle.fit_transform(data)\n",
    "        ax = fig.add_subplot(1,5,ind + 1)\n",
    "        ax.scatter(data_red[:,0], data_red[:,1], c=color, cmap=plt.cm.viridis)"
   ]
  },
  {
   "cell_type": "code",
   "execution_count": null,
   "metadata": {
    "scrolled": true
   },
   "outputs": [],
   "source": [
    "try_lle(easyblobs, easyblobs[:,2])"
   ]
  },
  {
   "cell_type": "code",
   "execution_count": null,
   "metadata": {
    "scrolled": false
   },
   "outputs": [],
   "source": [
    "try_lle(asymblobs, asymblobs[:,2])"
   ]
  },
  {
   "cell_type": "code",
   "execution_count": null,
   "metadata": {
    "scrolled": true
   },
   "outputs": [],
   "source": [
    "try_lle(blobs_var_density, blobs_var_density[:,2])"
   ]
  },
  {
   "cell_type": "code",
   "execution_count": null,
   "metadata": {
    "scrolled": true
   },
   "outputs": [],
   "source": [
    "try_lle(hardblobs, hardblobs[:,2])"
   ]
  },
  {
   "cell_type": "code",
   "execution_count": null,
   "metadata": {
    "scrolled": false
   },
   "outputs": [],
   "source": [
    "try_lle(swiss_rolls[0][0], color=swiss_rolls[0][1], neighbor_choices=(1,10,20,50,99))"
   ]
  },
  {
   "cell_type": "code",
   "execution_count": null,
   "metadata": {
    "scrolled": true
   },
   "outputs": [],
   "source": [
    "try_lle(swiss_rolls[1][0], color=swiss_rolls[1][1])"
   ]
  },
  {
   "cell_type": "code",
   "execution_count": null,
   "metadata": {
    "collapsed": true,
    "scrolled": true
   },
   "outputs": [],
   "source": [
    "# Warning -- pretty slow\n",
    "# try_lle(swiss_rolls[2][0], color=swiss_rolls[2][1])"
   ]
  },
  {
   "cell_type": "code",
   "execution_count": null,
   "metadata": {
    "collapsed": true
   },
   "outputs": [],
   "source": [
    "# Warning -- slow\n",
    "# try_lle(swiss_rolls[3][0], color=swiss_rolls[3][1])"
   ]
  },
  {
   "cell_type": "markdown",
   "metadata": {},
   "source": [
    "# Isomap\n",
    "http://web.mit.edu/cocosci/Papers/sci_reprint.pdf\n",
    "\n",
    "Exercises: \n",
    "1. Find the transition points between results. \n",
    "2. Explain the results at low parameter choices.\n",
    "3. Why do some of the blobs \"blow up\" before others in the last two blob examples?"
   ]
  },
  {
   "cell_type": "code",
   "execution_count": null,
   "metadata": {
    "collapsed": true
   },
   "outputs": [],
   "source": [
    "def try_isomap(data, color, neighbor_choices=(1,10,50,100,200)):\n",
    "    fig = plt.figure(figsize=(20, 4))\n",
    "    for ind, n_neighbors in enumerate(neighbor_choices):\n",
    "        isomap = skmfld.Isomap(n_neighbors, n_components=2, n_jobs=-1)\n",
    "        data_red = isomap.fit_transform(data)\n",
    "        ax = fig.add_subplot(1,5,ind + 1)\n",
    "        ax.scatter(data_red[:,0], data_red[:,1], c=color, cmap=plt.cm.viridis)"
   ]
  },
  {
   "cell_type": "code",
   "execution_count": null,
   "metadata": {},
   "outputs": [],
   "source": [
    "# Exercise: Find the transition point. Justify it.\n",
    "try_isomap(easyblobs, easyblobs[:,2])"
   ]
  },
  {
   "cell_type": "code",
   "execution_count": null,
   "metadata": {},
   "outputs": [],
   "source": [
    "try_isomap(asymblobs, asymblobs[:,2])"
   ]
  },
  {
   "cell_type": "code",
   "execution_count": null,
   "metadata": {},
   "outputs": [],
   "source": [
    "try_isomap(blobs_var_density, blobs_var_density[:,2])"
   ]
  },
  {
   "cell_type": "code",
   "execution_count": null,
   "metadata": {},
   "outputs": [],
   "source": [
    "# Exercise: explain why the clusters \"blow up\" in the order they do.\n",
    "try_isomap(hardblobs, hardblobs[:,2])"
   ]
  },
  {
   "cell_type": "code",
   "execution_count": null,
   "metadata": {},
   "outputs": [],
   "source": [
    "# Exercise: find a parameter choice that actually unrolls the swiss roll.\n",
    "try_isomap(swiss_rolls[0][0], swiss_rolls[0][1], neighbor_choices=(1,10,50,80,99))"
   ]
  },
  {
   "cell_type": "code",
   "execution_count": null,
   "metadata": {},
   "outputs": [],
   "source": [
    "try_isomap(swiss_rolls[1][0], swiss_rolls[1][1], neighbor_choices=(1,10,50,100,200))"
   ]
  },
  {
   "cell_type": "code",
   "execution_count": null,
   "metadata": {},
   "outputs": [],
   "source": [
    "try_isomap(swiss_rolls[2][0], swiss_rolls[2][1], neighbor_choices=(1,10,50,200,500))"
   ]
  },
  {
   "cell_type": "code",
   "execution_count": null,
   "metadata": {
    "collapsed": true
   },
   "outputs": [],
   "source": [
    "# Warning -- this is slow\n",
    "# try_isomap(swiss_rolls[3][0], swiss_rolls[3][1], neighbor_choices=(1,10,100,200,500))"
   ]
  },
  {
   "cell_type": "markdown",
   "metadata": {},
   "source": [
    "# Another algorithm, just for fun: t-SNE\n",
    "https://lvdmaaten.github.io/publications/papers/JMLR_2008.pdf\n",
    "but see also https://distill.pub/2016/misread-tsne/, which does not accomplish its title."
   ]
  },
  {
   "cell_type": "markdown",
   "metadata": {},
   "source": [
    "# Spheres"
   ]
  },
  {
   "cell_type": "code",
   "execution_count": null,
   "metadata": {
    "collapsed": true
   },
   "outputs": [],
   "source": [
    "def make_sphere(dim=4, num_points=500):\n",
    "    array = np.random.normal(0,1,[num_points, dim+1])\n",
    "    print array.shape\n",
    "    presph = pd.DataFrame(array)\n",
    "    print presph.shape\n",
    "    row_norms = presph.apply(np.linalg.norm, axis=1)\n",
    "    print row_norms.shape\n",
    "    sph = presph.apply(lambda x: x/row_norms, axis=0)\n",
    "    print sph.shape\n",
    "    return sph"
   ]
  },
  {
   "cell_type": "code",
   "execution_count": null,
   "metadata": {},
   "outputs": [],
   "source": [
    "sph2 = make_sphere(2)\n",
    "# sph3 = make_sphere(3)\n",
    "# sph4 = make_sphere()"
   ]
  },
  {
   "cell_type": "code",
   "execution_count": null,
   "metadata": {},
   "outputs": [],
   "source": [
    "for x in range(3):\n",
    "    try_pca(sph2, sph2[x])"
   ]
  },
  {
   "cell_type": "code",
   "execution_count": null,
   "metadata": {},
   "outputs": [],
   "source": [
    "for x in range(3):\n",
    "    try_isomap(sph2, sph2[x])"
   ]
  },
  {
   "cell_type": "code",
   "execution_count": null,
   "metadata": {},
   "outputs": [],
   "source": [
    "for x in range(3):\n",
    "    try_lle(sph2, sph2[x])"
   ]
  },
  {
   "cell_type": "markdown",
   "metadata": {},
   "source": [
    "# Persistent homology references\n",
    "http://www.ams.org/journals/bull/2009-46-02/S0273-0979-09-01249-X/S0273-0979-09-01249-X.pdf\n",
    "https://www.math.upenn.edu/~ghrist/preprints/barcodes.pdf"
   ]
  }
 ],
 "metadata": {
  "kernelspec": {
   "display_name": "Python 2",
   "language": "python",
   "name": "python2"
  },
  "language_info": {
   "codemirror_mode": {
    "name": "ipython",
    "version": 2
   },
   "file_extension": ".py",
   "mimetype": "text/x-python",
   "name": "python",
   "nbconvert_exporter": "python",
   "pygments_lexer": "ipython2",
   "version": "2.7.13"
  }
 },
 "nbformat": 4,
 "nbformat_minor": 2
}
