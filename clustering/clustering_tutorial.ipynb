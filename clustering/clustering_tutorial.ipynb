{
 "cells": [
  {
   "cell_type": "markdown",
   "metadata": {},
   "source": [
    "# Intro to numpy"
   ]
  },
  {
   "cell_type": "code",
   "execution_count": null,
   "metadata": {
    "collapsed": true
   },
   "outputs": [],
   "source": [
    "import numpy as np\n",
    "import matplotlib.pyplot as plt\n",
    "%matplotlib inline"
   ]
  },
  {
   "cell_type": "code",
   "execution_count": null,
   "metadata": {
    "collapsed": true,
    "scrolled": true
   },
   "outputs": [],
   "source": [
    "small_matrix = np.array([[1,2], [4,5], [7,8], [100,0]])\n",
    "print(small_matrix)\n",
    "print(small_matrix.shape)\n",
    "plt.scatter(small_matrix[:,0], small_matrix[:,1])"
   ]
  },
  {
   "cell_type": "code",
   "execution_count": null,
   "metadata": {
    "collapsed": true
   },
   "outputs": [],
   "source": [
    "col = np.array([-7,1,1,0]).reshape([-1,1])\n",
    "print(col.shape)\n",
    "plt.scatter(small_matrix[:,0], small_matrix[:,1], c=col)"
   ]
  },
  {
   "cell_type": "code",
   "execution_count": null,
   "metadata": {
    "collapsed": true
   },
   "outputs": [],
   "source": [
    "x = np.random.normal(0, 1, 100)\n",
    "y = np.random.normal(5, 16, 100)\n",
    "plt.scatter(x, y)"
   ]
  },
  {
   "cell_type": "code",
   "execution_count": null,
   "metadata": {
    "collapsed": true
   },
   "outputs": [],
   "source": [
    "def make_blob(center, radius, num_samples=100):\n",
    "    \"\"\"\n",
    "    Args:\n",
    "        center: length 2 list specifying x and y coords\n",
    "        radius: number specifying variance in both coords\n",
    "        num_samples: integer specifying number of samples, default=100\n",
    "    Returns:\n",
    "        np.array with shape (num_samples, 2); centered at center with stddev=radius\n",
    "    \"\"\"\n",
    "    x = np.random.normal(center[0], radius, num_samples)\n",
    "    y = np.random.normal(center[1], radius, num_samples)\n",
    "    return np.c_[x, y]\n",
    "\n",
    "# or return np.random.normal(center, radius, [num_samples, 2])\n",
    "\n",
    "c = make_blob([5,10], 0.1)\n",
    "assert c.shape == (100,2)\n",
    "plt.scatter(c[:,0], c[:,1])"
   ]
  },
  {
   "cell_type": "markdown",
   "metadata": {},
   "source": [
    "# Aside - omit"
   ]
  },
  {
   "cell_type": "code",
   "execution_count": null,
   "metadata": {
    "collapsed": true
   },
   "outputs": [],
   "source": [
    "class Blob(object):\n",
    "    \n",
    "    def __init__(self, center, radius):\n",
    "        self.x_center = center[0]\n",
    "        self.y_center = center[1]\n",
    "        self.radius = radius\n",
    "        \n",
    "class BlobFromCoords(object):\n",
    "    \n",
    "    def __init__(self, x_center, y_center, radius):\n",
    "        self.x_center = x_center\n",
    "        self.y_center = y_center\n",
    "        self.radius = radius"
   ]
  },
  {
   "cell_type": "code",
   "execution_count": null,
   "metadata": {
    "collapsed": true
   },
   "outputs": [],
   "source": [
    "b = BlobFromCoords(1,4,5)\n",
    "c = Blob([1,4],5)\n",
    "print b.x_center, c.x_center\n",
    "\n",
    "def better_make_blob(blob, num_samples=100):\n",
    "    \"\"\"\n",
    "    blob: object with attributes x_center, y_center, radius\n",
    "    num_samples: integer specifying number of samples, default=100\n",
    "    \"\"\"\n",
    "    x = np.random.normal(blob.x_center, blob.radius, num_samples)#.reshape([-1,1])\n",
    "    y = np.random.normal(blob.y_center, blob.radius, num_samples)\n",
    "    return np.c_[x,y]\n",
    "\n",
    "print better_make_blob(b)[:5]\n",
    "print better_make_blob(c)[:5]"
   ]
  },
  {
   "cell_type": "markdown",
   "metadata": {},
   "source": [
    "# More numpy operations"
   ]
  },
  {
   "cell_type": "code",
   "execution_count": null,
   "metadata": {
    "collapsed": true
   },
   "outputs": [],
   "source": [
    "# more stacking\n",
    "x = np.array([[1,22],[3,4]])\n",
    "y = np.array([[4,4], [6,6]])\n",
    "z = np.r_[x, y]\n",
    "print(z.shape)\n",
    "print(z)"
   ]
  },
  {
   "cell_type": "code",
   "execution_count": null,
   "metadata": {
    "collapsed": true
   },
   "outputs": [],
   "source": [
    "# exercise\n",
    "t = #z with a column of 5's appended\n",
    "\n",
    "assert t.shape == (4, 3)\n",
    "assert (t[:,2] == 5).all()"
   ]
  },
  {
   "cell_type": "code",
   "execution_count": null,
   "metadata": {
    "collapsed": true,
    "scrolled": true
   },
   "outputs": [],
   "source": [
    "def make_labeled_blobs(centers, radii):\n",
    "    \"\"\"\n",
    "    Args:\n",
    "        centers: list of centers (list of pairs of numbers)\n",
    "        radii: list of radii (list of numbers)\n",
    "    Returns:\n",
    "        np.array of all the blobs, with a \"label\" column\n",
    "    \"\"\"\n",
    "    label = 0\n",
    "    arr_to_return = None\n",
    "    for c, r in zip(centers, radii):\n",
    "        this_cluster = make_blob(c, r)\n",
    "        # exercise\n",
    "        label_col = # column of correct size with value label everywhere\n",
    "        this_cluster_labeled = np.c_[this_cluster, label_col]\n",
    "        if arr_to_return is None:\n",
    "            arr_to_return = this_cluster_labeled\n",
    "        else:\n",
    "            arr_to_return = np.r_[arr_to_return, this_cluster_labeled]\n",
    "        label += 1\n",
    "    return arr_to_return\n",
    "\n",
    "labeled_clusters = make_labeled_blobs([[0,4], [7,7], [15,0], [-2,-1]], [0.5, 1, 2, 1])\n",
    "\n",
    "print(labeled_clusters.shape)\n",
    "\n",
    "plt.scatter(labeled_clusters[:,0], labeled_clusters[:,1], c=labeled_clusters[:,2])\n",
    "\n",
    "\n",
    "        \n",
    "    "
   ]
  },
  {
   "cell_type": "markdown",
   "metadata": {},
   "source": [
    "# k-means clustering"
   ]
  },
  {
   "cell_type": "markdown",
   "metadata": {},
   "source": [
    "Given (subset of Euclidean space X *, number of clusters k), returns partition of X into k clusters.\n",
    "\n",
    "    choose k centroids from X (at random); these are cluster centers\n",
    "\n",
    "    until convergence:\n",
    "\n",
    "        assign every point in X to its closest centroid\n",
    "    \n",
    "            (now we have a partition)\n",
    "        \n",
    "        recalculate the centroid of each cluster\n",
    "    \n",
    "\n",
    "\\* can be made more general\n",
    "\n",
    "trying to minimize distances within clusters\n"
   ]
  },
  {
   "cell_type": "code",
   "execution_count": null,
   "metadata": {
    "collapsed": true
   },
   "outputs": [],
   "source": [
    "from sklearn.cluster import KMeans\n",
    "def example_kmeans(num_clusters=2):\n",
    "    kmeans = KMeans(n_clusters=num_clusters, random_state=0).fit(labeled_clusters[:,:2])\n",
    "    plt.scatter(labeled_clusters[:,0], labeled_clusters[:,1], c=kmeans.labels_)\n",
    "    return kmeans\n",
    "\n",
    "example_kmeans(2)"
   ]
  },
  {
   "cell_type": "code",
   "execution_count": null,
   "metadata": {
    "collapsed": true
   },
   "outputs": [],
   "source": [
    "# exercise: see how the answer changes with k - insert some new cells here\n",
    "example_kmeans(3)"
   ]
  },
  {
   "cell_type": "code",
   "execution_count": null,
   "metadata": {
    "collapsed": true
   },
   "outputs": [],
   "source": [
    "kmeans_1 = example_kmeans(4)"
   ]
  },
  {
   "cell_type": "markdown",
   "metadata": {},
   "source": [
    "# How does k-means handle a linear transformation?"
   ]
  },
  {
   "cell_type": "code",
   "execution_count": null,
   "metadata": {
    "collapsed": true
   },
   "outputs": [],
   "source": [
    "transf = np.array([[0.2, 0.01], [1.1, -0.9]])\n",
    "# exercise\n",
    "transf_labeled_clusters = # labeled_clusters transformed by transf\n",
    "print(transf_labeled_clusters.shape)\n",
    "plt.scatter(transf_labeled_clusters[:,0], transf_labeled_clusters[:,1], c=labeled_clusters[:,2])"
   ]
  },
  {
   "cell_type": "code",
   "execution_count": null,
   "metadata": {
    "collapsed": true,
    "scrolled": true
   },
   "outputs": [],
   "source": [
    "kmeans_2 = KMeans(n_clusters=4, random_state=0).fit(transf_labeled_clusters)\n",
    "plt.scatter(transf_labeled_clusters[:,0], transf_labeled_clusters[:,1], c=kmeans_2.labels_)"
   ]
  },
  {
   "cell_type": "code",
   "execution_count": null,
   "metadata": {
    "collapsed": true
   },
   "outputs": [],
   "source": [
    "# execise: visualize the clustering of the transformed data in the original coordinates\n",
    "plt.scatter( ... )"
   ]
  },
  {
   "cell_type": "markdown",
   "metadata": {},
   "source": [
    "# DBSCAN"
   ]
  },
  {
   "cell_type": "markdown",
   "metadata": {},
   "source": [
    "Find core samples of high density and grows them, labels points in sparse regions as noise. Requires \"epsilon\" (threshold for points to be considered neighbors), and \"number of neighbors\" (number of points in a neighborhood for a point to be considered core)."
   ]
  },
  {
   "cell_type": "code",
   "execution_count": null,
   "metadata": {
    "collapsed": true
   },
   "outputs": [],
   "source": [
    "from sklearn.cluster import DBSCAN\n",
    "dbs_1 = DBSCAN(eps=1, min_samples=2).fit(labeled_clusters[:,:2])\n",
    "plt.scatter(labeled_clusters[:,0], labeled_clusters[:,1], c=dbs_1.labels_)\n",
    "\n",
    "print \"DBSCAN found {} core points.\".format(len(dbs_1.core_sample_indices_))\n"
   ]
  },
  {
   "cell_type": "code",
   "execution_count": null,
   "metadata": {
    "collapsed": true,
    "scrolled": true
   },
   "outputs": [],
   "source": [
    "dbs_2 = DBSCAN(min_samples=2).fit(transf_labeled_clusters)\n",
    "plt.scatter(transf_labeled_clusters[:,0], transf_labeled_clusters[:,1], c=dbs_2.labels_)\n",
    "\n",
    "print \"DBSCAN found {} core points.\".format(len(dbs_2.core_sample_indices_))\n"
   ]
  },
  {
   "cell_type": "code",
   "execution_count": null,
   "metadata": {
    "collapsed": true
   },
   "outputs": [],
   "source": [
    "plt.scatter(labeled_clusters[:,0], labeled_clusters[:,1], c=dbs_2.labels_)"
   ]
  },
  {
   "cell_type": "markdown",
   "metadata": {},
   "source": [
    "# Spectral clustering"
   ]
  },
  {
   "cell_type": "markdown",
   "metadata": {},
   "source": [
    "### Idea\n",
    "Again specify the number of clusters and similarity matrix.\n",
    "\n",
    "Map data via normalized Laplacian to $k$-dimensional Euclidean space.\n",
    "\n",
    "Perform (e.g.) $k$-means there."
   ]
  },
  {
   "cell_type": "markdown",
   "metadata": {},
   "source": [
    "### Detail\n",
    "\n",
    "Let $A$ be similarity matrix ($n \\times n$), except zeroes on diagonal.\n",
    "\n",
    "Let $D$ be diagonal matrix of $A$'s row sums.\n",
    "\n",
    "Set $L := D^{-1/2} A D^{-1/2}$\n",
    "\n",
    "Form $X := n \\times k$ matrix of top eigenvectors of $L$.\n",
    "\n",
    "Renormalize $X$ to have norm 1 rows.\n",
    "\n",
    "Perform (e.g.) $k$-means, view as clustering of rows; use same clustering of rows of $A$."
   ]
  },
  {
   "cell_type": "markdown",
   "metadata": {},
   "source": [
    "### Aside\n",
    "Can define a kernel on graphs using similar ideas."
   ]
  },
  {
   "cell_type": "code",
   "execution_count": null,
   "metadata": {
    "collapsed": true
   },
   "outputs": [],
   "source": [
    "from sklearn.cluster import SpectralClustering\n",
    "spec_1 = SpectralClustering(n_clusters=4).fit(labeled_clusters)\n",
    "plt.scatter(labeled_clusters[:,0], labeled_clusters[:,1], c=spec_1.labels_)"
   ]
  },
  {
   "cell_type": "code",
   "execution_count": null,
   "metadata": {
    "collapsed": true,
    "scrolled": true
   },
   "outputs": [],
   "source": [
    "spec_2 = SpectralClustering(n_clusters=4).fit(transf_labeled_clusters)\n",
    "plt.scatter(labeled_clusters[:,0], labeled_clusters[:,1], c=spec_2.labels_)"
   ]
  },
  {
   "cell_type": "markdown",
   "metadata": {},
   "source": [
    "# Another fun example"
   ]
  },
  {
   "cell_type": "code",
   "execution_count": null,
   "metadata": {
    "collapsed": true
   },
   "outputs": [],
   "source": [
    "points = np.random.uniform(0, 1000, 500)\n",
    "\n",
    "def f(arr, radius):\n",
    "    x_, y_ = lambda t : radius * np.cos(t), lambda t : radius * np.sin(t)\n",
    "    f_x, f_y = np.vectorize(x_), np.vectorize(y_)\n",
    "    return np.c_[f_x(arr), f_y(arr)]\n",
    "\n",
    "circ_1 = f(points, 1.)\n",
    "plt.scatter(circ_1[:,0], circ_1[:,1])"
   ]
  },
  {
   "cell_type": "code",
   "execution_count": null,
   "metadata": {
    "collapsed": true
   },
   "outputs": [],
   "source": [
    "circ_2 = f(np.random.uniform(0, 1000, 500), 3.)\n",
    "two_circ = np.r_[circ_1, circ_2]\n",
    "plt.scatter(two_circ[:,0], two_circ[:,1])"
   ]
  },
  {
   "cell_type": "code",
   "execution_count": null,
   "metadata": {
    "collapsed": true
   },
   "outputs": [],
   "source": [
    "km_circ = KMeans(n_clusters=2, random_state=0).fit(two_circ)\n",
    "plt.scatter(two_circ[:,0], two_circ[:,1], c=(km_circ.labels_) * 90, cmap='viridis')"
   ]
  },
  {
   "cell_type": "code",
   "execution_count": null,
   "metadata": {
    "collapsed": true
   },
   "outputs": [],
   "source": [
    "dbs_circ = DBSCAN().fit(two_circ)\n",
    "plt.scatter(two_circ[:,0], two_circ[:,1], c=dbs_circ.labels_ * 90, cmap='viridis')\n",
    "#print dbs.labels_"
   ]
  },
  {
   "cell_type": "code",
   "execution_count": null,
   "metadata": {
    "collapsed": true
   },
   "outputs": [],
   "source": [
    "spec_circ = SpectralClustering(n_clusters=2).fit(two_circ)\n",
    "plt.scatter(two_circ[:,0], two_circ[:,1], c=spec_circ.labels_* 90, cmap='viridis')\n",
    "# try a perturbatiion"
   ]
  },
  {
   "cell_type": "code",
   "execution_count": null,
   "metadata": {
    "collapsed": true
   },
   "outputs": [],
   "source": []
  }
 ],
 "metadata": {
  "kernelspec": {
   "display_name": "Python 2",
   "language": "python",
   "name": "python2"
  },
  "language_info": {
   "codemirror_mode": {
    "name": "ipython",
    "version": 2
   },
   "file_extension": ".py",
   "mimetype": "text/x-python",
   "name": "python",
   "nbconvert_exporter": "python",
   "pygments_lexer": "ipython2",
   "version": "2.7.12"
  }
 },
 "nbformat": 4,
 "nbformat_minor": 2
}
