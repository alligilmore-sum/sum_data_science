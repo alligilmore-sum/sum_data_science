{
 "cells": [
  {
   "cell_type": "markdown",
   "metadata": {},
   "source": [
    "An Impossibility Theorem for Clustering\n",
    "\n",
    "Jon Kleinberg\n",
    "\n",
    "https://www.cs.cornell.edu/home/kleinber/nips15.pdf"
   ]
  },
  {
   "cell_type": "markdown",
   "metadata": {},
   "source": [
    "Classifying Clustering Schemes\n",
    "\n",
    "Gunnar Carlsson, Facundo Mémoli\n",
    "\n",
    "\n",
    "https://arxiv.org/abs/1011.5270"
   ]
  },
  {
   "cell_type": "markdown",
   "metadata": {},
   "source": [
    "On Spectral Clustering: Analysis and an algorithm\n",
    "\n",
    "Andrew Ng, Michael Jordan, Yair Weiss\n",
    "\n",
    "http://ai.stanford.edu/~ang/papers/nips01-spectral.pdf"
   ]
  },
  {
   "cell_type": "markdown",
   "metadata": {},
   "source": [
    "A Density-Based Algorithm for Discovering Clusters in Large Spatial Databases with Noise\n",
    "\n",
    "Martin Ester, Hans-Peter Kriegel, J&ouml;rg Sander, Xiaowei Xu\n",
    "\n",
    "https://www.aaai.org/Papers/KDD/1996/KDD96-037.pdf"
   ]
  }
 ],
 "metadata": {
  "kernelspec": {
   "display_name": "Python 2",
   "language": "python",
   "name": "python2"
  },
  "language_info": {
   "codemirror_mode": {
    "name": "ipython",
    "version": 2
   },
   "file_extension": ".py",
   "mimetype": "text/x-python",
   "name": "python",
   "nbconvert_exporter": "python",
   "pygments_lexer": "ipython2",
   "version": "2.7.12"
  }
 },
 "nbformat": 4,
 "nbformat_minor": 2
}
